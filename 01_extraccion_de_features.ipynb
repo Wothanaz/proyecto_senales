{
 "cells": [
  {
   "cell_type": "code",
   "execution_count": null,
   "metadata": {},
   "outputs": [
    {
     "name": "stderr",
     "output_type": "stream",
     "text": [
      "c:\\Users\\wotan\\AppData\\Local\\Programs\\Python\\Python313\\Lib\\site-packages\\torchvision\\models\\_utils.py:208: UserWarning: The parameter 'pretrained' is deprecated since 0.13 and may be removed in the future, please use 'weights' instead.\n",
      "  warnings.warn(\n",
      "c:\\Users\\wotan\\AppData\\Local\\Programs\\Python\\Python313\\Lib\\site-packages\\torchvision\\models\\_utils.py:223: UserWarning: Arguments other than a weight enum or `None` for 'weights' are deprecated since 0.13 and may be removed in the future. The current behavior is equivalent to passing `weights=ResNet18_Weights.IMAGENET1K_V1`. You can also use `weights=ResNet18_Weights.DEFAULT` to get the most up-to-date weights.\n",
      "  warnings.warn(msg)\n"
     ]
    },
    {
     "name": "stdout",
     "output_type": "stream",
     "text": [
      "✅ Features guardadas en 'features.csv'\n"
     ]
    }
   ],
   "source": [
    "import torch\n",
    "import torchvision.models as models\n",
    "import torchvision.transforms as transforms\n",
    "from PIL import Image, UnidentifiedImageError\n",
    "import os\n",
    "import numpy as np\n",
    "import pandas as pd\n",
    "\n",
    "# 📌 Cargar modelo preentrenado (sin la última capa)\n",
    "model = models.resnet18(pretrained=True)\n",
    "model = torch.nn.Sequential(*list(model.children())[:-1])  # Quitar capa FC\n",
    "model.eval()\n",
    "\n",
    "# 📌 Transformaciones de imagen\n",
    "transform = transforms.Compose([\n",
    "    transforms.Resize((224, 224)),\n",
    "    transforms.ToTensor(),\n",
    "    transforms.Normalize([0.485, 0.456, 0.406], [0.229, 0.224, 0.225])\n",
    "])\n",
    "\n",
    "# 📂 Directorios\n",
    "data_dir = \"Dataset\"\n",
    "features_dir = \"features\"\n",
    "output_file = os.path.join(features_dir, \"features.csv\")\n",
    "\n",
    "# 📌 Verificar si el directorio Dataset existe\n",
    "if not os.path.exists(data_dir):\n",
    "    print(f\"⚠️ El directorio '{data_dir}' no existe.\")\n",
    "    exit()\n",
    "\n",
    "# 📌 Crear carpeta 'features' si no existe\n",
    "os.makedirs(features_dir, exist_ok=True)\n",
    "\n",
    "# 🗑️ Verificar si el archivo features.csv ya existe\n",
    "if os.path.exists(output_file):\n",
    "    respuesta = input(f\"📂 El archivo '{output_file}' ya existe. ¿Deseas sobrescribirlo? (s/n): \").strip().lower()\n",
    "    if respuesta != \"s\":\n",
    "        print(\"ℹ️ Operación cancelada.\")\n",
    "        exit()\n",
    "    os.remove(output_file)\n",
    "    print(\"✅ Archivo anterior eliminado.\")\n",
    "\n",
    "# 📌 Extraer características de cada imagen\n",
    "features = []\n",
    "labels = []\n",
    "\n",
    "for img_name in os.listdir(data_dir):\n",
    "    img_path = os.path.join(data_dir, img_name)\n",
    "\n",
    "    try:\n",
    "        image = Image.open(img_path).convert(\"RGB\")\n",
    "        image = transform(image).unsqueeze(0)  # Añadir batch dimension\n",
    "\n",
    "        with torch.no_grad():\n",
    "            embedding = model(image).flatten().numpy()  # Extraer feature vector\n",
    "\n",
    "        features.append(embedding)\n",
    "        labels.append(img_name.split('.')[0])  # Usar nombre de archivo como ID\n",
    "\n",
    "    except UnidentifiedImageError:\n",
    "        print(f\"⚠️ Archivo ignorado (no es una imagen válida): {img_name}\")\n",
    "\n",
    "# 📌 Convertir a DataFrame y guardar\n",
    "if features:\n",
    "    df = pd.DataFrame(features)\n",
    "    df[\"label\"] = labels\n",
    "    df.to_csv(output_file, index=False)\n",
    "    print(f\"✅ Features guardadas en '{output_file}'\")\n",
    "else:\n",
    "    print(\"⚠️ No se encontraron imágenes válidas en el directorio.\")\n",
    "\n",
    "\n"
   ]
  },
  {
   "cell_type": "code",
   "execution_count": null,
   "metadata": {},
   "outputs": [],
   "source": []
  }
 ],
 "metadata": {
  "kernelspec": {
   "display_name": "Python 3",
   "language": "python",
   "name": "python3"
  },
  "language_info": {
   "codemirror_mode": {
    "name": "ipython",
    "version": 3
   },
   "file_extension": ".py",
   "mimetype": "text/x-python",
   "name": "python",
   "nbconvert_exporter": "python",
   "pygments_lexer": "ipython3",
   "version": "3.13.2"
  }
 },
 "nbformat": 4,
 "nbformat_minor": 2
}
