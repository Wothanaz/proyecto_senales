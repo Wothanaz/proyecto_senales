{
 "cells": [
  {
   "cell_type": "code",
   "execution_count": 4,
   "metadata": {},
   "outputs": [
    {
     "name": "stdout",
     "output_type": "stream",
     "text": [
      "🚦 La señal detectada es: SR-01\n",
      "📌 Tipo: Reglamentaria\n",
      "ℹ️ Descripción: Pare\n"
     ]
    },
    {
     "name": "stderr",
     "output_type": "stream",
     "text": [
      "c:\\Users\\wotan\\AppData\\Local\\Programs\\Python\\Python313\\Lib\\site-packages\\torchvision\\models\\_utils.py:208: UserWarning: The parameter 'pretrained' is deprecated since 0.13 and may be removed in the future, please use 'weights' instead.\n",
      "  warnings.warn(\n",
      "c:\\Users\\wotan\\AppData\\Local\\Programs\\Python\\Python313\\Lib\\site-packages\\torchvision\\models\\_utils.py:223: UserWarning: Arguments other than a weight enum or `None` for 'weights' are deprecated since 0.13 and may be removed in the future. The current behavior is equivalent to passing `weights=ResNet18_Weights.IMAGENET1K_V1`. You can also use `weights=ResNet18_Weights.DEFAULT` to get the most up-to-date weights.\n",
      "  warnings.warn(msg)\n"
     ]
    }
   ],
   "source": [
    "import torch\n",
    "import torchvision.transforms as transforms\n",
    "import torchvision.models as models\n",
    "from PIL import Image\n",
    "import numpy as np\n",
    "import joblib\n",
    "import pandas as pd\n",
    "import os\n",
    "\n",
    "# 📌 Cargar el dataset\n",
    "metadata_path = \"metadata.xlsx\"\n",
    "\n",
    "if not os.path.exists(metadata_path):\n",
    "    print(f\"⚠️ No se encontró el archivo '{metadata_path}'. Verifica su ubicación.\")\n",
    "    exit()\n",
    "\n",
    "df = pd.read_excel(metadata_path)\n",
    "\n",
    "# 📌 Cargar modelo de extracción de features\n",
    "model = models.resnet18(pretrained=True)\n",
    "model = torch.nn.Sequential(*list(model.children())[:-1])  # Quitar la última capa\n",
    "model.eval()\n",
    "\n",
    "# 📌 Cargar modelo KNN\n",
    "knn_path = \"models/knn_model.pkl\"\n",
    "\n",
    "if not os.path.exists(knn_path):\n",
    "    print(f\"⚠️ No se encontró el modelo '{knn_path}'. Asegúrate de entrenarlo primero.\")\n",
    "    exit()\n",
    "\n",
    "knn = joblib.load(knn_path)\n",
    "\n",
    "# 📌 Transformaciones para la imagen\n",
    "transform = transforms.Compose([\n",
    "    transforms.Resize((224, 224)),\n",
    "    transforms.ToTensor(),\n",
    "    transforms.Normalize([0.485, 0.456, 0.406], [0.229, 0.224, 0.225])\n",
    "])\n",
    "\n",
    "# 📌 Clasificar una nueva imagen\n",
    "img_path = \"imagen_prueba.jpg\"\n",
    "\n",
    "if not os.path.exists(img_path):\n",
    "    print(f\"⚠️ No se encontró la imagen '{img_path}'. Verifica la ruta.\")\n",
    "    exit()\n",
    "\n",
    "image = Image.open(img_path).convert(\"RGB\")\n",
    "image = transform(image).unsqueeze(0)\n",
    "\n",
    "# 📌 Extraer características con ResNet18\n",
    "with torch.no_grad():\n",
    "    embedding = model(image).flatten().numpy()\n",
    "\n",
    "# 🔍 Predecir con KNN\n",
    "predicted_label = knn.predict([embedding])[0]\n",
    "\n",
    "# 📌 Buscar información en el dataset\n",
    "resultado = df[df[\"imagen\"] == predicted_label]\n",
    "\n",
    "if not resultado.empty:\n",
    "    señal = resultado.iloc[0][\"señal\"]\n",
    "    tipo = resultado.iloc[0][\"tipo\"]\n",
    "    descripcion = resultado.iloc[0][\"descripcion\"]\n",
    "    \n",
    "    print(f\"🚦 La señal detectada es: {señal}\")\n",
    "    print(f\"📌 Tipo: {tipo}\")\n",
    "    print(f\"ℹ️ Descripción: {descripcion}\")\n",
    "else:\n",
    "    print(\"⚠️ No se encontró información para la señal detectada.\")\n"
   ]
  },
  {
   "cell_type": "code",
   "execution_count": null,
   "metadata": {},
   "outputs": [],
   "source": []
  }
 ],
 "metadata": {
  "kernelspec": {
   "display_name": "Python 3",
   "language": "python",
   "name": "python3"
  },
  "language_info": {
   "codemirror_mode": {
    "name": "ipython",
    "version": 3
   },
   "file_extension": ".py",
   "mimetype": "text/x-python",
   "name": "python",
   "nbconvert_exporter": "python",
   "pygments_lexer": "ipython3",
   "version": "3.13.2"
  }
 },
 "nbformat": 4,
 "nbformat_minor": 2
}
